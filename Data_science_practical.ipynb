{
 "cells": [
  {
   "cell_type": "code",
   "execution_count": 2,
   "id": "c78c85b4-4bf7-4245-ac1c-a29f11f33286",
   "metadata": {
    "tags": []
   },
   "outputs": [],
   "source": [
    "import pandas as pd\n",
    "import numpy as np"
   ]
  },
  {
   "cell_type": "markdown",
   "id": "d10b7f16-d276-4cd4-a22b-c21420e76d8e",
   "metadata": {},
   "source": [
    "## Q1 Create a pandas series from a dictionary of values and an ndarray. "
   ]
  },
  {
   "cell_type": "code",
   "execution_count": 3,
   "id": "071e7148-b95c-40ac-9ab7-ef06c1cb9bde",
   "metadata": {
    "tags": []
   },
   "outputs": [
    {
     "name": "stdout",
     "output_type": "stream",
     "text": [
      "Series using Dictionary\n",
      "Apple         150\n",
      "Mango         100\n",
      "Banana         80\n",
      "Orange        120\n",
      "Pineapple     300\n",
      "Watermelon     35\n",
      "dtype: int64\n",
      "\n",
      "Series using ndarray\n",
      "0    150\n",
      "1    100\n",
      "2     80\n",
      "3    120\n",
      "4    300\n",
      "5     35\n",
      "dtype: int64\n"
     ]
    }
   ],
   "source": [
    "## Series using dictionary.\n",
    "print(\"Series using Dictionary\")\n",
    "fruits_price={'Apple':150,'Mango':100,'Banana':80,'Orange':120,'Pineapple':300,'Watermelon':35}\n",
    "series_fruits = pd.Series(data=fruits_price)\n",
    "print(series_fruits)\n",
    "print()\n",
    "# Series using ndarray.\n",
    "print(\"Series using ndarray\")\n",
    "arr = np.array([150,100,80,120,300,35])\n",
    "series_arr = pd.Series(arr)\n",
    "print(series_arr)"
   ]
  },
  {
   "cell_type": "markdown",
   "id": "50f67ec2-8eac-4fba-a838-7e8342c33ace",
   "metadata": {
    "tags": []
   },
   "source": [
    "## Q2 Create a Series and print all the elements that are above 75th percentile. "
   ]
  },
  {
   "cell_type": "code",
   "execution_count": 4,
   "id": "7d33c501-ea73-4afa-ac68-2fcacd5c7aae",
   "metadata": {
    "tags": []
   },
   "outputs": [
    {
     "data": {
      "text/plain": [
       "3    45\n",
       "5    56\n",
       "6    78\n",
       "dtype: int64"
      ]
     },
     "execution_count": 4,
     "metadata": {},
     "output_type": "execute_result"
    }
   ],
   "source": [
    "#printing all elments above 75th percentile\n",
    "num = np.array([10,21,13,45,21,56,78,100,12])\n",
    "num_series = pd.Series(num)\n",
    "filt = (num_series>num_series.quantile(0.5)) & (num_series<num_series.max())\n",
    "num_series[filt]"
   ]
  },
  {
   "cell_type": "markdown",
   "id": "3e78c395-0a5b-407e-8f74-272d7cdc8e23",
   "metadata": {
    "tags": []
   },
   "source": [
    "## Q3 Perform sorting on Series data and DataFrames."
   ]
  },
  {
   "cell_type": "code",
   "execution_count": 5,
   "id": "11b8fee7-cbc4-4956-ad95-e088d56a3837",
   "metadata": {
    "tags": []
   },
   "outputs": [
    {
     "name": "stdout",
     "output_type": "stream",
     "text": [
      "Sorting values from the series\n",
      "4     6\n",
      "0    10\n",
      "1    13\n",
      "6    15\n",
      "2    21\n",
      "5    24\n",
      "3    34\n",
      "7    78\n",
      "dtype: int64\n",
      "\n",
      "sorting the values from dataframe\n",
      "   row_1 row_2\n",
      "3      0     d\n",
      "2      1     c\n",
      "1      2     b\n",
      "0      3     a\n"
     ]
    }
   ],
   "source": [
    "#Sorting values from the series\n",
    "print(\"Sorting values from the series\")\n",
    "data_num = np.array([10,13,21,34,6,24,15,78])\n",
    "series = pd.Series(data_num)\n",
    "sorted_series = series.sort_values()\n",
    "print(sorted_series)\n",
    "print()\n",
    "\n",
    "print(\"sorting the values from dataframe\")\n",
    "data = {'row_1': [3, 2, 1, 0], 'row_2': ['a', 'b', 'c', 'd']}\n",
    "df = pd.DataFrame(data=data)\n",
    "sorted_df = df.sort_values(by=\"row_1\")\n",
    "print(sorted_df)\n"
   ]
  },
  {
   "cell_type": "markdown",
   "id": "a51e6de3-fb29-49d8-b2ba-02b8cdeb5060",
   "metadata": {},
   "source": [
    "## Q4 Write a program to implement pivot() and pivot-table() on a DataFrame."
   ]
  },
  {
   "cell_type": "code",
   "execution_count": null,
   "id": "785d3e6a-5574-4428-b7fa-2c0d2be04dc3",
   "metadata": {
    "tags": []
   },
   "outputs": [],
   "source": [
    "#implementing pivot\n",
    "data_col = pd.DataFrame(data={\"name\":[\"rohit\",\"deepak\",\"vaibhav\",\"aryan\"],\"age\":[22,20,19,20],\"rollno\":[39,42,22,41]})\n",
    "print(data_col.pivot(index=\"rollno\",columns=\"name\",values=\"age\"))\n",
    "print()\n",
    "#implementing pandas.pivot_table()\n",
    "pd.pivot_table(data_col,index=\"name\")"
   ]
  },
  {
   "cell_type": "markdown",
   "id": "5c833f42-5316-4436-a568-c21bea2cc288",
   "metadata": {},
   "source": [
    "## Q5 Write a program to find mean absolute deviation on a DataFrame. "
   ]
  },
  {
   "cell_type": "code",
   "execution_count": 26,
   "id": "44b7ae58-df05-4d6c-973e-cb8031cd1ba1",
   "metadata": {
    "tags": []
   },
   "outputs": [
    {
     "name": "stdout",
     "output_type": "stream",
     "text": [
      "13.358024691358025\n"
     ]
    },
    {
     "name": "stderr",
     "output_type": "stream",
     "text": [
      "/tmp/ipykernel_2124/1756104943.py:18: FutureWarning: The 'mad' method is deprecated and will be removed in a future version. To compute the same result, you may do `(df - df.mean()).abs().mean()`.\n",
      "  print(student_data.Marks.mad())\n"
     ]
    }
   ],
   "source": [
    "student_data = pd.DataFrame(data={'ID': {0: 23, 1: 43, 2: 12,\n",
    "                          3: 13, 4: 67, 5: 89, \n",
    "                          6: 90, 7: 56, 8: 34},\n",
    "                     \n",
    "                   'Name': {0: 'Ram', 1: 'Deep',\n",
    "                            2: 'Yash', 3: 'Aman',\n",
    "                            4: 'Arjun', 5: 'Aditya',\n",
    "                            6: 'Akash',7: 'Chalsea',\n",
    "                            8: 'Divya'},\n",
    "  \n",
    "                   'Marks': {0: 89, 1: 97, 2: 45, \n",
    "                             3: 78, 4: 56, 5: 76,\n",
    "                             6: 81, 7: 87, 8: 100},\n",
    "  \n",
    "                   'Grade': {0: 'B', 1: 'A', 2: 'F', 3: 'C',\n",
    "                             4: 'E', 5: 'C', 6: 'B', 7: 'B',\n",
    "                             8: 'A'}})\n",
    "print(student_data.Marks.mad())"
   ]
  },
  {
   "cell_type": "markdown",
   "id": "3fafddbe-d6ef-4b0b-9488-3f99b0dff639",
   "metadata": {},
   "source": [
    "## Q6 Two Series object, Population stores the details of four metro cities of India and another object AvgIncome stores the total average income reported in four years in these cities. Calculate income per capita for each of these metro cities"
   ]
  },
  {
   "cell_type": "code",
   "execution_count": 31,
   "id": "2f6cf185-e356-4477-afbc-1d7ec3d53976",
   "metadata": {
    "tags": []
   },
   "outputs": [
    {
     "name": "stdout",
     "output_type": "stream",
     "text": [
      "population of Cities\n",
      "NCR         46069000\n",
      "Mumbai      20961000\n",
      "Kolkata     15134000\n",
      "Banglore    13193000\n",
      "dtype: int64\n",
      "\n",
      "Average income of cities\n",
      "NCR          12000000\n",
      "Mumbai      160000000\n",
      "Kolkata        650000\n",
      "Banglore      8900000\n",
      "dtype: int64\n",
      "\n",
      "Per capita income of cities\n",
      "NCR         0.260479\n",
      "Mumbai      7.633224\n",
      "Kolkata     0.042950\n",
      "Banglore    0.674600\n",
      "dtype: float64\n"
     ]
    }
   ],
   "source": [
    "population = pd.Series(data={\"NCR\":46069000,\"Mumbai\":20961000,\"Kolkata\":15134000,\"Banglore\":13193000})\n",
    "print(\"population of Cities\")\n",
    "print(population)\n",
    "print()\n",
    "AvgIncome = pd.Series(data={\"NCR\":12000000,\"Mumbai\":160000000,\"Kolkata\":650000,\"Banglore\":8900000})\n",
    "print(\"Average income of cities\")\n",
    "print(AvgIncome)\n",
    "print()\n",
    "percapita = AvgIncome/population\n",
    "print(\"Per capita income of cities\")\n",
    "print(percapita)"
   ]
  },
  {
   "cell_type": "markdown",
   "id": "e959b9a7-3324-4ea9-a278-190099a506e1",
   "metadata": {},
   "source": [
    "## Q7 Create a DataFrame based on E-Commerce data and generate mean, mode, median"
   ]
  },
  {
   "cell_type": "code",
   "execution_count": 46,
   "id": "7acb438c-c138-4e32-9088-e44895317f41",
   "metadata": {
    "tags": []
   },
   "outputs": [
    {
     "name": "stdout",
     "output_type": "stream",
     "text": [
      "data\n",
      "    products  quantity  price  discount\n",
      "0  headphone      3000   1200      0.12\n",
      "1     mobile      2000  25000      0.15\n",
      "2   airpodes      8000   3000      0.07\n",
      "3    speaker      3432   5000      0.05\n",
      "4     laptop      1200  70000      0.30\n",
      "5    grinder       870   1200      0.10\n",
      "\n",
      "mean\n",
      "17566.666666666668\n",
      "\n",
      "mode\n",
      "0    1200\n",
      "Name: price, dtype: int64\n",
      "\n",
      "median\n",
      "4000.0\n"
     ]
    }
   ],
   "source": [
    "ecom={\n",
    "    \"products\":[\"headphone\",\"mobile\",\"airpodes\",\"speaker\",\"laptop\",\"grinder\"],\n",
    "    \"quantity\":[3000,2000,8000,3432,1200,870],\n",
    "    \"price\":[1200,25000,3000,5000,70000,1200],\n",
    "    \"discount\":[0.12,0.15,0.07,0.05,0.30,0.10]\n",
    "}\n",
    "ecom_data = pd.DataFrame(ecom)\n",
    "print(\"data\")\n",
    "print(ecom_data)\n",
    "print()\n",
    "print(\"mean\")\n",
    "print(ecom_data[\"price\"].mean())\n",
    "print()\n",
    "print(\"mode\")\n",
    "print(ecom_data[\"price\"].mode())\n",
    "print()\n",
    "print(\"median\")\n",
    "print(ecom_data[\"price\"].median())"
   ]
  }
 ],
 "metadata": {
  "kernelspec": {
   "display_name": "Python 3 (ipykernel)",
   "language": "python",
   "name": "python3"
  },
  "language_info": {
   "codemirror_mode": {
    "name": "ipython",
    "version": 3
   },
   "file_extension": ".py",
   "mimetype": "text/x-python",
   "name": "python",
   "nbconvert_exporter": "python",
   "pygments_lexer": "ipython3",
   "version": "3.10.10"
  }
 },
 "nbformat": 4,
 "nbformat_minor": 5
}
